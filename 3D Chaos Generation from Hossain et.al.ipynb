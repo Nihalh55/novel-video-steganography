{
 "cells": [
  {
   "cell_type": "code",
   "execution_count": 1,
   "metadata": {},
   "outputs": [],
   "source": [
    "import numpy as np\n",
    "import matplotlib.pyplot as plt\n",
    "from copy import deepcopy as copy"
   ]
  },
  {
   "cell_type": "code",
   "execution_count": 4,
   "metadata": {},
   "outputs": [],
   "source": [
    "alpha = 0.0125 # 0 < alpha < 0.015\n",
    "beta = 0.0157  # 0 < beta < 0.022\n",
    "gamma = 3.7700 # 3.53 < gamma < 3.81"
   ]
  },
  {
   "cell_type": "code",
   "execution_count": 5,
   "metadata": {},
   "outputs": [],
   "source": [
    "def logistic_chaos_map(xn, yn, zn):\n",
    "    x = (gamma*xn*(1-xn)) + (beta*(yn**2)*xn) +(alpha*(zn**3))\n",
    "    y = (gamma*yn*(1-yn)) + (beta*(zn**2)*yn) +(alpha*(xn**3))    \n",
    "    z = (gamma*zn*(1-zn)) + (beta*(xn**2)*zn) +(alpha*(yn**3))\n",
    "    \n",
    "    return x, y, z"
   ]
  },
  {
   "cell_type": "code",
   "execution_count": 6,
   "metadata": {},
   "outputs": [],
   "source": [
    "x_1 = 0.2350\n",
    "y_1 = 0.3500\n",
    "z_1 = 0.7350"
   ]
  },
  {
   "cell_type": "code",
   "execution_count": 8,
   "metadata": {},
   "outputs": [],
   "source": [
    "l = logistic_chaos_map(x_1, y_1, z_1)"
   ]
  },
  {
   "cell_type": "code",
   "execution_count": 10,
   "metadata": {},
   "outputs": [],
   "source": [
    "l = np.array(l)"
   ]
  },
  {
   "cell_type": "code",
   "execution_count": 16,
   "metadata": {},
   "outputs": [],
   "source": [
    "values = [(x_1, y_1, z_1)]\n",
    "for i in range(1, 10):\n",
    "    x, y, z = values[-1]\n",
    "    values.append(logistic_chaos_map(x, y, z))"
   ]
  },
  {
   "cell_type": "code",
   "execution_count": 17,
   "metadata": {},
   "outputs": [
    {
     "data": {
      "text/plain": [
       "[(0.235, 0.35, 0.735),\n",
       " (0.6831670309375, 0.8608057598125001, 0.7354749563875002),\n",
       " (0.8289364535646685, 0.4630143611923348, 0.7468215562829662),\n",
       " (0.5425857638580092, 0.9485171843094585, 0.7221257890668897),\n",
       " (0.9480340264121891, 0.19386013573798405, 0.7704935016476198),\n",
       " (0.19200799090712323, 0.6016271617572083, 0.6776246574476619),\n",
       " (0.5898617557634245, 0.90798878347377, 0.826668787875889),\n",
       " (0.9267533971709804, 0.32727254836797687, 0.5540669745483993),\n",
       " (0.25959797705238985, 0.8415498083267848, 0.9393887585662919),\n",
       " (0.7378683768307006, 0.5145837773800572, 0.22309824096135777)]"
      ]
     },
     "execution_count": 17,
     "metadata": {},
     "output_type": "execute_result"
    }
   ],
   "source": [
    "values"
   ]
  },
  {
   "cell_type": "code",
   "execution_count": 19,
   "metadata": {},
   "outputs": [
    {
     "data": {
      "text/plain": [
       "array([[0.235     , 0.35      , 0.735     ],\n",
       "       [0.68316703, 0.86080576, 0.73547496],\n",
       "       [0.82893645, 0.46301436, 0.74682156],\n",
       "       [0.54258576, 0.94851718, 0.72212579],\n",
       "       [0.94803403, 0.19386014, 0.7704935 ],\n",
       "       [0.19200799, 0.60162716, 0.67762466],\n",
       "       [0.58986176, 0.90798878, 0.82666879],\n",
       "       [0.9267534 , 0.32727255, 0.55406697],\n",
       "       [0.25959798, 0.84154981, 0.93938876],\n",
       "       [0.73786838, 0.51458378, 0.22309824]])"
      ]
     },
     "execution_count": 19,
     "metadata": {},
     "output_type": "execute_result"
    }
   ],
   "source": [
    "values = np.array(values)\n",
    "values"
   ]
  },
  {
   "cell_type": "code",
   "execution_count": 27,
   "metadata": {},
   "outputs": [
    {
     "data": {
      "text/plain": [
       "0.6831670309375"
      ]
     },
     "execution_count": 27,
     "metadata": {},
     "output_type": "execute_result"
    }
   ],
   "source": [
    "values[:, 0][1]"
   ]
  },
  {
   "cell_type": "code",
   "execution_count": 30,
   "metadata": {},
   "outputs": [],
   "source": [
    "class chaotic_pixels:\n",
    "    def __init__(self):\n",
    "        self.x_1 = 0.2350\n",
    "        self.y_1 = 0.3500\n",
    "        self.z_1 = 0.7350\n",
    "        \n",
    "        self.alpha = 0.0125 # 0 < alpha < 0.015\n",
    "        self.beta = 0.0157  # 0 < beta < 0.022\n",
    "        self.gamma = 3.7700 # 3.53 < gamma < 3.81\n",
    "        \n",
    "        self.N = 10**8\n",
    "    \n",
    "    def logistic_chaos_map(self, xn, yn, zn):\n",
    "        x = (self.gamma*xn*(1-xn)) + (self.beta*(yn**2)*xn) +(self.alpha*(zn**3))\n",
    "        y = (self.gamma*yn*(1-yn)) + (self.beta*(zn**2)*yn) +(self.alpha*(xn**3))    \n",
    "        z = (self.gamma*zn*(1-zn)) + (self.beta*(xn**2)*zn) +(self.alpha*(yn**3))\n",
    "    \n",
    "        return x, y, z\n",
    "    \n",
    "    def get_pixels(self, video_dims, data_len):\n",
    "        values = [(x_1, y_1, z_1)]\n",
    "        for i in range(1, data_len):\n",
    "            x, y, z = values[-1]\n",
    "            values.append(self.logistic_chaos_map(x, y, z))\n",
    "        \n",
    "        values = np.array(values)\n",
    "        for i in range (0, 3):\n",
    "            values[:, i] = np.mod(np.uint64(values[:, i]*self.N), video_dims[i])\n",
    "            \n",
    "        return values"
   ]
  },
  {
   "cell_type": "code",
   "execution_count": 31,
   "metadata": {},
   "outputs": [],
   "source": [
    "gen = chaotic_pixels()"
   ]
  },
  {
   "cell_type": "code",
   "execution_count": 32,
   "metadata": {},
   "outputs": [
    {
     "data": {
      "text/plain": [
       "array([[ 0.,  0.,  0.],\n",
       "       [ 3., 75.,  5.],\n",
       "       [45., 36.,  5.],\n",
       "       [76., 18., 28.],\n",
       "       [ 2., 13., 20.],\n",
       "       [99., 16., 25.],\n",
       "       [75., 78., 18.],\n",
       "       [39., 54., 27.],\n",
       "       [97., 80., 25.],\n",
       "       [37., 77., 24.]])"
      ]
     },
     "execution_count": 32,
     "metadata": {},
     "output_type": "execute_result"
    }
   ],
   "source": [
    "gen.get_pixels((100, 100, 30), 10)"
   ]
  },
  {
   "cell_type": "code",
   "execution_count": null,
   "metadata": {},
   "outputs": [],
   "source": []
  }
 ],
 "metadata": {
  "kernelspec": {
   "display_name": "Python 3",
   "language": "python",
   "name": "python3"
  },
  "language_info": {
   "codemirror_mode": {
    "name": "ipython",
    "version": 3
   },
   "file_extension": ".py",
   "mimetype": "text/x-python",
   "name": "python",
   "nbconvert_exporter": "python",
   "pygments_lexer": "ipython3",
   "version": "3.6.7"
  }
 },
 "nbformat": 4,
 "nbformat_minor": 2
}
