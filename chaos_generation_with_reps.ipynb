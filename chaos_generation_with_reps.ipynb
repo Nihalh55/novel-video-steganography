{
 "cells": [
  {
   "cell_type": "code",
   "execution_count": 3,
   "metadata": {},
   "outputs": [],
   "source": [
    "import numpy as np\n",
    "import pandas as pd\n",
    "import matplotlib.pyplot as plt\n",
    "import skvideo.io\n",
    "import skvideo.datasets\n",
    "import os\n",
    "from copy import deepcopy as copy"
   ]
  },
  {
   "cell_type": "code",
   "execution_count": 38,
   "metadata": {},
   "outputs": [],
   "source": [
    "class chaotic_pixels:\n",
    "    def __init__(self):\n",
    "        self.x_1 = 0.2350\n",
    "        self.y_1 = 0.3500\n",
    "        self.z_1 = 0.7350\n",
    "        self.v_1 = (self.x_1, self.y_1, self.z_1)\n",
    "        \n",
    "        self.alpha = 0.0125 # 0 < alpha < 0.015\n",
    "        self.beta = 0.0157  # 0 < beta < 0.022\n",
    "        self.gamma = 3.7700 # 3.53 < gamma < 3.81\n",
    "        \n",
    "        self.N = 10**15\n",
    "    \n",
    "    def logistic_chaos_map(self, point):\n",
    "        xn, yn, zn = point\n",
    "        x = (self.gamma*xn*(1-xn)) + (self.beta*(yn**2)*xn) + (self.alpha*(zn**3))\n",
    "        y = (self.gamma*yn*(1-yn)) + (self.beta*(zn**2)*yn) + (self.alpha*(xn**3))    \n",
    "        z = (self.gamma*zn*(1-zn)) + (self.beta*(xn**2)*zn) + (self.alpha*(yn**3))\n",
    "    \n",
    "        return x, y, z\n",
    "    \n",
    "    def normalize(self, point, video_dims):\n",
    "        x, y, z = point\n",
    "        return (np.int64(x*self.N)%video_dims[0], np.int64(y*self.N)%video_dims[1], np.int64(z*self.N)%video_dims[2])\n",
    "    \n",
    "    def get_pixels(self, video_dims, data_len, get_reps=False):\n",
    "        prev = self.v_1\n",
    "        values = []\n",
    "        hash_table = {}\n",
    "        count = 0\n",
    "        reps = []\n",
    "        for i in range(0, data_len):\n",
    "            next_point = self.logistic_chaos_map(prev)\n",
    "            n_next = self.normalize(next_point, video_dims)\n",
    "            prev = next_point\n",
    "            \n",
    "            key = hash(n_next)\n",
    "            if key in hash_table:\n",
    "                if n_next in hash_table[key]:\n",
    "                    reps.append(i)\n",
    "                    if(len(reps)%100 == 0):\n",
    "                        print(reps[-1])\n",
    "                    continue\n",
    "                else:\n",
    "                    hash_table[key].append(n_next)\n",
    "            else:\n",
    "                hash_table[key] = [n_next]\n",
    "        \n",
    "            values.append(n_next)\n",
    "            \n",
    "        values = np.array(values, dtype=np.int64)\n",
    "        ids = np.arange(0, data_len)\n",
    "        values = np.c_[values, ids]\n",
    "        values = values[values[:,0].argsort()]\n",
    "        \n",
    "        if get_reps:\n",
    "            return values, reps\n",
    "        return values"
   ]
  },
  {
   "cell_type": "code",
   "execution_count": 39,
   "metadata": {},
   "outputs": [
    {
     "data": {
      "text/plain": [
       "array([[ 0,  0,  0,  0],\n",
       "       [ 0, 57, 57,  8],\n",
       "       [ 9, 58, 89,  2],\n",
       "       [23,  8, 61,  4],\n",
       "       [24, 70, 89,  5],\n",
       "       [68, 34, 66,  1],\n",
       "       [80, 76, 99,  6],\n",
       "       [84, 78, 15,  9],\n",
       "       [89, 84, 19,  3],\n",
       "       [89, 84, 91,  7]])"
      ]
     },
     "execution_count": 39,
     "metadata": {},
     "output_type": "execute_result"
    }
   ],
   "source": [
    "gen = chaotic_pixels()\n",
    "gen.get_pixels((100,100,100), 10)"
   ]
  },
  {
   "cell_type": "code",
   "execution_count": 37,
   "metadata": {},
   "outputs": [
    {
     "data": {
      "text/plain": [
       "16.0"
      ]
     },
     "execution_count": 37,
     "metadata": {},
     "output_type": "execute_result"
    }
   ],
   "source": [
    "(256*256*256)/(1024*1024)"
   ]
  },
  {
   "cell_type": "code",
   "execution_count": null,
   "metadata": {},
   "outputs": [],
   "source": []
  }
 ],
 "metadata": {
  "kernelspec": {
   "display_name": "Python 3",
   "language": "python",
   "name": "python3"
  },
  "language_info": {
   "codemirror_mode": {
    "name": "ipython",
    "version": 3
   },
   "file_extension": ".py",
   "mimetype": "text/x-python",
   "name": "python",
   "nbconvert_exporter": "python",
   "pygments_lexer": "ipython3",
   "version": "3.6.7"
  }
 },
 "nbformat": 4,
 "nbformat_minor": 2
}
